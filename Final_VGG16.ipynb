{
  "nbformat": 4,
  "nbformat_minor": 0,
  "metadata": {
    "colab": {
      "provenance": [],
      "gpuType": "T4",
      "mount_file_id": "14q7ISqcl_X-XKbQTnZTP2QhPEwKAy-MP",
      "authorship_tag": "ABX9TyMM4uVscdug6m45bRoAwfKK",
      "include_colab_link": true
    },
    "kernelspec": {
      "name": "python3",
      "display_name": "Python 3"
    },
    "language_info": {
      "name": "python"
    },
    "accelerator": "GPU"
  },
  "cells": [
    {
      "cell_type": "markdown",
      "metadata": {
        "id": "view-in-github",
        "colab_type": "text"
      },
      "source": [
        "<a href=\"https://colab.research.google.com/github/kjsp91/Multimodal-Cyberbullying-Detection/blob/master/Final_VGG16.ipynb\" target=\"_parent\"><img src=\"https://colab.research.google.com/assets/colab-badge.svg\" alt=\"Open In Colab\"/></a>"
      ]
    },
    {
      "cell_type": "markdown",
      "source": [
        "# **VGG16 adam with 0.5 dropout 65.93**"
      ],
      "metadata": {
        "id": "w5WcIoI3C70J"
      }
    },
    {
      "cell_type": "code",
      "source": [
        "from google.colab import drive\n",
        "drive.mount('/content/drive')"
      ],
      "metadata": {
        "colab": {
          "base_uri": "https://localhost:8080/"
        },
        "id": "c3edzCe7BtzG",
        "outputId": "0cb9779d-3706-4c0c-d5d7-dcd30d6c5fb0"
      },
      "execution_count": null,
      "outputs": [
        {
          "output_type": "stream",
          "name": "stdout",
          "text": [
            "Drive already mounted at /content/drive; to attempt to forcibly remount, call drive.mount(\"/content/drive\", force_remount=True).\n"
          ]
        }
      ]
    },
    {
      "cell_type": "code",
      "source": [
        "import tensorflow as tf\n",
        "from tensorflow.keras.preprocessing.image import ImageDataGenerator\n",
        "from tensorflow.keras.applications import VGG16\n",
        "from tensorflow.keras.layers import Dense, GlobalAveragePooling2D, Dropout\n",
        "from tensorflow.keras.models import Model\n",
        "from tensorflow.keras.callbacks import ReduceLROnPlateau, EarlyStopping, ModelCheckpoint"
      ],
      "metadata": {
        "id": "p_IUGQRVwJgi"
      },
      "execution_count": null,
      "outputs": []
    },
    {
      "cell_type": "code",
      "source": [
        "# Paths to your dataset\n",
        "train_dir = '/content/drive/MyDrive/train'  # Update with your path to training data\n",
        "test_dir = '/content/drive/MyDrive/test'    # Update with your path to test data"
      ],
      "metadata": {
        "id": "rvi5LDJzwJU2"
      },
      "execution_count": null,
      "outputs": []
    },
    {
      "cell_type": "code",
      "source": [
        "# ImageDataGenerator for data augmentation and normalization\n",
        "train_datagen = ImageDataGenerator(\n",
        "    rescale=1./255,\n",
        "    rotation_range=40,\n",
        "    width_shift_range=0.2,\n",
        "    height_shift_range=0.2,\n",
        "    shear_range=0.2,\n",
        "    zoom_range=0.2,\n",
        "    horizontal_flip=True,\n",
        "    fill_mode='nearest',\n",
        "    brightness_range=[0.8, 1.2]\n",
        ")\n",
        "\n",
        "test_datagen = ImageDataGenerator(rescale=1./255)"
      ],
      "metadata": {
        "id": "lBQQEW2lwJRY"
      },
      "execution_count": null,
      "outputs": []
    },
    {
      "cell_type": "code",
      "source": [
        "# Flow training images in batches of 32 using train_datagen generator\n",
        "train_generator = train_datagen.flow_from_directory(\n",
        "    train_dir,\n",
        "    target_size=(224, 224),  # Resize images to (224, 224) for VGG16\n",
        "    batch_size=32,\n",
        "    class_mode='binary'  # For binary classification\n",
        ")"
      ],
      "metadata": {
        "colab": {
          "base_uri": "https://localhost:8080/"
        },
        "id": "H1jUySESwJO0",
        "outputId": "6e1deaec-58f0-426c-8797-c066ea716239"
      },
      "execution_count": null,
      "outputs": [
        {
          "output_type": "stream",
          "name": "stdout",
          "text": [
            "Found 1274 images belonging to 2 classes.\n"
          ]
        }
      ]
    },
    {
      "cell_type": "code",
      "source": [
        "# Flow validation images in batches of 32 using test_datagen generator\n",
        "test_generator = test_datagen.flow_from_directory(\n",
        "    test_dir,\n",
        "    target_size=(224, 224),\n",
        "    batch_size=32,\n",
        "    class_mode='binary'\n",
        ")"
      ],
      "metadata": {
        "colab": {
          "base_uri": "https://localhost:8080/"
        },
        "id": "fesjmKtewJMS",
        "outputId": "2843e637-fa6e-40b7-d875-d55035396faa"
      },
      "execution_count": null,
      "outputs": [
        {
          "output_type": "stream",
          "name": "stdout",
          "text": [
            "Found 320 images belonging to 2 classes.\n"
          ]
        }
      ]
    },
    {
      "cell_type": "code",
      "source": [
        "# Load VGG16 with pre-trained ImageNet weights, excluding top layers\n",
        "base_model = VGG16(weights='imagenet', include_top=False, input_shape=(224, 224, 3))"
      ],
      "metadata": {
        "colab": {
          "base_uri": "https://localhost:8080/"
        },
        "id": "C4pjG7UKwJJx",
        "outputId": "1a83210d-42ec-42d3-9d55-3831b024309f"
      },
      "execution_count": null,
      "outputs": [
        {
          "output_type": "stream",
          "name": "stdout",
          "text": [
            "Downloading data from https://storage.googleapis.com/tensorflow/keras-applications/vgg16/vgg16_weights_tf_dim_ordering_tf_kernels_notop.h5\n",
            "58889256/58889256 [==============================] - 0s 0us/step\n"
          ]
        }
      ]
    },
    {
      "cell_type": "code",
      "source": [
        "# Add custom top layers for binary classification\n",
        "x = base_model.output\n",
        "x = GlobalAveragePooling2D()(x)\n",
        "x = Dense(1024, activation='relu', kernel_regularizer=tf.keras.regularizers.l2(0.001))(x)\n",
        "x = Dropout(0.5)(x)\n",
        "predictions = Dense(1, activation='sigmoid')(x)"
      ],
      "metadata": {
        "id": "ROdC4N63wU-3"
      },
      "execution_count": null,
      "outputs": []
    },
    {
      "cell_type": "code",
      "source": [
        "# Combine base model and top layers into new model\n",
        "model = Model(inputs=base_model.input, outputs=predictions)"
      ],
      "metadata": {
        "id": "qKgKltEzwU7f"
      },
      "execution_count": null,
      "outputs": []
    },
    {
      "cell_type": "code",
      "source": [
        "# Freeze all layers of the base model (only train top layers)\n",
        "for layer in base_model.layers:\n",
        "    layer.trainable = False"
      ],
      "metadata": {
        "id": "qvVZwF9OwU5c"
      },
      "execution_count": null,
      "outputs": []
    },
    {
      "cell_type": "code",
      "source": [
        "# Compile the model with Adam optimizer and a learning rate of 0.001\n",
        "optimizer = tf.keras.optimizers.Adam(learning_rate=0.001)\n",
        "model.compile(optimizer=optimizer, loss='binary_crossentropy', metrics=['accuracy'])"
      ],
      "metadata": {
        "id": "ykq4r-WZwU2z"
      },
      "execution_count": null,
      "outputs": []
    },
    {
      "cell_type": "code",
      "source": [
        "# Callbacks for learning rate reduction, early stopping, and model checkpoint\n",
        "reduce_lr = ReduceLROnPlateau(monitor='val_loss', factor=0.2, patience=3, min_lr=1e-7)\n",
        "early_stopping = EarlyStopping(monitor='val_loss', patience=10, restore_best_weights=True)\n",
        "model_checkpoint = ModelCheckpoint('/content/vgg16_bully_classifier_best.h5', monitor='val_loss', save_best_only=True)"
      ],
      "metadata": {
        "id": "JPreUCYxwU0k"
      },
      "execution_count": null,
      "outputs": []
    },
    {
      "cell_type": "code",
      "source": [
        "# Train the model on the data\n",
        "history = model.fit(\n",
        "    train_generator,\n",
        "    steps_per_epoch=train_generator.samples // train_generator.batch_size,\n",
        "    epochs=40,  # Initial training epochs\n",
        "    validation_data=test_generator,\n",
        "    validation_steps=test_generator.samples // test_generator.batch_size,\n",
        "    callbacks=[reduce_lr, early_stopping, model_checkpoint]\n",
        ")"
      ],
      "metadata": {
        "colab": {
          "base_uri": "https://localhost:8080/"
        },
        "id": "-xFoLHTqwiVG",
        "outputId": "2a68d628-81d3-4a60-b86b-e3a5c91ae314"
      },
      "execution_count": null,
      "outputs": [
        {
          "output_type": "stream",
          "name": "stdout",
          "text": [
            "Epoch 1/40\n",
            "39/39 [==============================] - 29s 730ms/step - loss: 0.6092 - accuracy: 0.6836 - val_loss: 0.6660 - val_accuracy: 0.6562 - lr: 1.0000e-07\n",
            "Epoch 2/40\n",
            "39/39 [==============================] - 28s 721ms/step - loss: 0.6055 - accuracy: 0.6948 - val_loss: 0.6661 - val_accuracy: 0.6562 - lr: 1.0000e-07\n",
            "Epoch 3/40\n",
            "39/39 [==============================] - 28s 712ms/step - loss: 0.6078 - accuracy: 0.6771 - val_loss: 0.6665 - val_accuracy: 0.6531 - lr: 1.0000e-07\n",
            "Epoch 4/40\n",
            "39/39 [==============================] - 28s 721ms/step - loss: 0.6124 - accuracy: 0.6940 - val_loss: 0.6661 - val_accuracy: 0.6531 - lr: 1.0000e-07\n",
            "Epoch 5/40\n",
            "39/39 [==============================] - 29s 747ms/step - loss: 0.6083 - accuracy: 0.6965 - val_loss: 0.6664 - val_accuracy: 0.6469 - lr: 1.0000e-07\n",
            "Epoch 6/40\n",
            "39/39 [==============================] - 29s 727ms/step - loss: 0.6040 - accuracy: 0.6965 - val_loss: 0.6659 - val_accuracy: 0.6469 - lr: 1.0000e-07\n",
            "Epoch 7/40\n",
            "39/39 [==============================] - 28s 720ms/step - loss: 0.6100 - accuracy: 0.6836 - val_loss: 0.6659 - val_accuracy: 0.6469 - lr: 1.0000e-07\n",
            "Epoch 8/40\n",
            "39/39 [==============================] - ETA: 0s - loss: 0.6035 - accuracy: 0.7045"
          ]
        },
        {
          "output_type": "stream",
          "name": "stderr",
          "text": [
            "/usr/local/lib/python3.10/dist-packages/keras/src/engine/training.py:3103: UserWarning: You are saving your model as an HDF5 file via `model.save()`. This file format is considered legacy. We recommend using instead the native Keras format, e.g. `model.save('my_model.keras')`.\n",
            "  saving_api.save_model(\n"
          ]
        },
        {
          "output_type": "stream",
          "name": "stdout",
          "text": [
            "\b\b\b\b\b\b\b\b\b\b\b\b\b\b\b\b\b\b\b\b\b\b\b\b\b\b\b\b\b\b\b\b\b\b\b\b\b\b\b\b\b\b\b\b\b\b\b\b\b\b\b\b\b\b\b\b\b\b\b\b\b\b\b\b\b\b\b\b\b\b\b\b\b\b\b\b\b\b\b\b\b\b\r39/39 [==============================] - 30s 755ms/step - loss: 0.6035 - accuracy: 0.7045 - val_loss: 0.6657 - val_accuracy: 0.6500 - lr: 1.0000e-07\n",
            "Epoch 9/40\n",
            "39/39 [==============================] - 29s 718ms/step - loss: 0.6020 - accuracy: 0.7005 - val_loss: 0.6659 - val_accuracy: 0.6500 - lr: 1.0000e-07\n",
            "Epoch 10/40\n",
            "39/39 [==============================] - 28s 722ms/step - loss: 0.6117 - accuracy: 0.6932 - val_loss: 0.6657 - val_accuracy: 0.6500 - lr: 1.0000e-07\n",
            "Epoch 11/40\n",
            "39/39 [==============================] - 28s 719ms/step - loss: 0.6038 - accuracy: 0.6973 - val_loss: 0.6662 - val_accuracy: 0.6531 - lr: 1.0000e-07\n",
            "Epoch 12/40\n",
            "39/39 [==============================] - 29s 730ms/step - loss: 0.6032 - accuracy: 0.6916 - val_loss: 0.6655 - val_accuracy: 0.6531 - lr: 1.0000e-07\n",
            "Epoch 13/40\n",
            "39/39 [==============================] - 30s 763ms/step - loss: 0.6039 - accuracy: 0.6965 - val_loss: 0.6649 - val_accuracy: 0.6469 - lr: 1.0000e-07\n",
            "Epoch 14/40\n",
            "39/39 [==============================] - 28s 717ms/step - loss: 0.6083 - accuracy: 0.6948 - val_loss: 0.6651 - val_accuracy: 0.6500 - lr: 1.0000e-07\n",
            "Epoch 15/40\n",
            "39/39 [==============================] - 30s 763ms/step - loss: 0.6030 - accuracy: 0.7053 - val_loss: 0.6648 - val_accuracy: 0.6500 - lr: 1.0000e-07\n",
            "Epoch 16/40\n",
            "39/39 [==============================] - 28s 712ms/step - loss: 0.6004 - accuracy: 0.6997 - val_loss: 0.6649 - val_accuracy: 0.6500 - lr: 1.0000e-07\n",
            "Epoch 17/40\n",
            "39/39 [==============================] - 29s 733ms/step - loss: 0.6017 - accuracy: 0.6981 - val_loss: 0.6647 - val_accuracy: 0.6531 - lr: 1.0000e-07\n",
            "Epoch 18/40\n",
            "39/39 [==============================] - 28s 720ms/step - loss: 0.6033 - accuracy: 0.7053 - val_loss: 0.6650 - val_accuracy: 0.6500 - lr: 1.0000e-07\n",
            "Epoch 19/40\n",
            "39/39 [==============================] - 28s 723ms/step - loss: 0.5986 - accuracy: 0.6973 - val_loss: 0.6650 - val_accuracy: 0.6500 - lr: 1.0000e-07\n",
            "Epoch 20/40\n",
            "39/39 [==============================] - 28s 718ms/step - loss: 0.5994 - accuracy: 0.7045 - val_loss: 0.6654 - val_accuracy: 0.6469 - lr: 1.0000e-07\n",
            "Epoch 21/40\n",
            "39/39 [==============================] - 29s 749ms/step - loss: 0.5946 - accuracy: 0.7069 - val_loss: 0.6651 - val_accuracy: 0.6469 - lr: 1.0000e-07\n",
            "Epoch 22/40\n",
            "39/39 [==============================] - 28s 719ms/step - loss: 0.6071 - accuracy: 0.6948 - val_loss: 0.6652 - val_accuracy: 0.6438 - lr: 1.0000e-07\n",
            "Epoch 23/40\n",
            "39/39 [==============================] - 28s 718ms/step - loss: 0.5974 - accuracy: 0.6981 - val_loss: 0.6654 - val_accuracy: 0.6500 - lr: 1.0000e-07\n",
            "Epoch 24/40\n",
            "39/39 [==============================] - 28s 724ms/step - loss: 0.6059 - accuracy: 0.6924 - val_loss: 0.6651 - val_accuracy: 0.6531 - lr: 1.0000e-07\n",
            "Epoch 25/40\n",
            "39/39 [==============================] - 28s 714ms/step - loss: 0.5944 - accuracy: 0.7166 - val_loss: 0.6652 - val_accuracy: 0.6531 - lr: 1.0000e-07\n",
            "Epoch 26/40\n",
            "39/39 [==============================] - 29s 741ms/step - loss: 0.6000 - accuracy: 0.7029 - val_loss: 0.6659 - val_accuracy: 0.6500 - lr: 1.0000e-07\n",
            "Epoch 27/40\n",
            "39/39 [==============================] - 29s 726ms/step - loss: 0.5924 - accuracy: 0.7158 - val_loss: 0.6659 - val_accuracy: 0.6500 - lr: 1.0000e-07\n"
          ]
        }
      ]
    },
    {
      "cell_type": "code",
      "source": [
        "# Unfreeze some of the top layers of the base model for fine-tuning\n",
        "for layer in base_model.layers[-100:]:  # Unfreeze the last 50 layers\n",
        "    layer.trainable = True"
      ],
      "metadata": {
        "id": "sheA0687wiRv"
      },
      "execution_count": null,
      "outputs": []
    },
    {
      "cell_type": "code",
      "source": [
        "# Recompile the model with a lower learning rate for fine-tuning\n",
        "optimizer_fine = tf.keras.optimizers.Adam(learning_rate=1e-5)\n",
        "model.compile(optimizer=optimizer_fine, loss='binary_crossentropy', metrics=['accuracy'])"
      ],
      "metadata": {
        "id": "-OWg8guzwlcz"
      },
      "execution_count": null,
      "outputs": []
    },
    {
      "cell_type": "code",
      "source": [
        "# Continue training the model for fine-tuning\n",
        "history_fine = model.fit(\n",
        "    train_generator,\n",
        "    steps_per_epoch=train_generator.samples // train_generator.batch_size,\n",
        "    epochs=40,  # Additional fine-tuning epochs\n",
        "    validation_data=test_generator,\n",
        "    validation_steps=test_generator.samples // test_generator.batch_size,\n",
        "    callbacks=[reduce_lr, early_stopping, model_checkpoint]\n",
        ")"
      ],
      "metadata": {
        "colab": {
          "base_uri": "https://localhost:8080/"
        },
        "id": "C3V5KHz2wlat",
        "outputId": "876acf79-8744-4941-cc70-924380cc5496"
      },
      "execution_count": null,
      "outputs": [
        {
          "output_type": "stream",
          "name": "stdout",
          "text": [
            "Epoch 1/40\n",
            "39/39 [==============================] - 57s 975ms/step - loss: 0.6702 - accuracy: 0.6312 - val_loss: 0.6870 - val_accuracy: 0.5969 - lr: 1.0000e-05\n",
            "Epoch 2/40\n",
            "39/39 [==============================] - 28s 720ms/step - loss: 0.6390 - accuracy: 0.6481 - val_loss: 0.6824 - val_accuracy: 0.6156 - lr: 1.0000e-05\n",
            "Epoch 3/40\n",
            "39/39 [==============================] - 29s 727ms/step - loss: 0.6531 - accuracy: 0.6401 - val_loss: 0.6676 - val_accuracy: 0.6344 - lr: 1.0000e-05\n",
            "Epoch 4/40\n",
            "39/39 [==============================] - 29s 730ms/step - loss: 0.6293 - accuracy: 0.6659 - val_loss: 0.6658 - val_accuracy: 0.6594 - lr: 1.0000e-05\n",
            "Epoch 5/40\n",
            "39/39 [==============================] - 28s 722ms/step - loss: 0.6194 - accuracy: 0.6787 - val_loss: 0.6666 - val_accuracy: 0.6531 - lr: 1.0000e-05\n",
            "Epoch 6/40\n",
            "39/39 [==============================] - 28s 723ms/step - loss: 0.6119 - accuracy: 0.6868 - val_loss: 0.6818 - val_accuracy: 0.6156 - lr: 1.0000e-05\n",
            "Epoch 7/40\n",
            "39/39 [==============================] - 29s 737ms/step - loss: 0.5921 - accuracy: 0.7093 - val_loss: 0.6735 - val_accuracy: 0.6344 - lr: 1.0000e-05\n",
            "Epoch 8/40\n",
            "39/39 [==============================] - 29s 738ms/step - loss: 0.5713 - accuracy: 0.7383 - val_loss: 0.6696 - val_accuracy: 0.6469 - lr: 2.0000e-06\n",
            "Epoch 9/40\n",
            "39/39 [==============================] - 28s 713ms/step - loss: 0.5658 - accuracy: 0.7311 - val_loss: 0.6823 - val_accuracy: 0.6281 - lr: 2.0000e-06\n",
            "Epoch 10/40\n",
            "39/39 [==============================] - 28s 722ms/step - loss: 0.5562 - accuracy: 0.7351 - val_loss: 0.6780 - val_accuracy: 0.6438 - lr: 2.0000e-06\n",
            "Epoch 11/40\n",
            "39/39 [==============================] - 28s 722ms/step - loss: 0.5508 - accuracy: 0.7407 - val_loss: 0.6745 - val_accuracy: 0.6406 - lr: 4.0000e-07\n",
            "Epoch 12/40\n",
            "39/39 [==============================] - 28s 723ms/step - loss: 0.5443 - accuracy: 0.7560 - val_loss: 0.6733 - val_accuracy: 0.6500 - lr: 4.0000e-07\n",
            "Epoch 13/40\n",
            "39/39 [==============================] - 28s 714ms/step - loss: 0.5407 - accuracy: 0.7424 - val_loss: 0.6745 - val_accuracy: 0.6469 - lr: 4.0000e-07\n",
            "Epoch 14/40\n",
            "39/39 [==============================] - 29s 749ms/step - loss: 0.5396 - accuracy: 0.7448 - val_loss: 0.6757 - val_accuracy: 0.6531 - lr: 1.0000e-07\n"
          ]
        }
      ]
    },
    {
      "cell_type": "code",
      "source": [
        "# Evaluate the model\n",
        "test_loss, test_acc = model.evaluate(test_generator)\n",
        "print(f'Test accuracy: {test_acc}')\n"
      ],
      "metadata": {
        "colab": {
          "base_uri": "https://localhost:8080/"
        },
        "id": "tiXYpO7ywovn",
        "outputId": "7f77061c-bb18-42e0-b7f5-8b1623c55178"
      },
      "execution_count": null,
      "outputs": [
        {
          "output_type": "stream",
          "name": "stdout",
          "text": [
            "10/10 [==============================] - 2s 141ms/step - loss: 0.6658 - accuracy: 0.6594\n",
            "Test accuracy: 0.659375011920929\n"
          ]
        }
      ]
    },
    {
      "cell_type": "code",
      "source": [
        "# Evaluate the model\n",
        "train_loss, train_acc = model.evaluate(train_generator)\n",
        "print(f'Train accuracy: {train_acc}')"
      ],
      "metadata": {
        "colab": {
          "base_uri": "https://localhost:8080/"
        },
        "id": "imxu0ANcwqr0",
        "outputId": "d30bf299-ba38-4f19-a558-7aa80180ed4f"
      },
      "execution_count": null,
      "outputs": [
        {
          "output_type": "stream",
          "name": "stdout",
          "text": [
            "40/40 [==============================] - 23s 582ms/step - loss: 0.6038 - accuracy: 0.7025\n",
            "Train accuracy: 0.7025117874145508\n"
          ]
        }
      ]
    },
    {
      "cell_type": "code",
      "execution_count": null,
      "metadata": {
        "id": "Qjg8tTD-wDQn"
      },
      "outputs": [],
      "source": [
        "# Save the fine-tuned model\n",
        "model.save('/content/drive/MyDrive/vgg16_best_adam_0.5')\n"
      ]
    },
    {
      "cell_type": "code",
      "source": [
        "import numpy as np\n",
        "from tensorflow.keras.preprocessing import image\n",
        "from tensorflow.keras.models import load_model"
      ],
      "metadata": {
        "id": "HDzNDCQ4DUii"
      },
      "execution_count": null,
      "outputs": []
    },
    {
      "cell_type": "code",
      "source": [
        "import tensorflow as tf\n",
        "model_path = '/content/drive/MyDrive/vgg16_best_adam_0.5'\n",
        "model = tf.keras.models.load_model(model_path)"
      ],
      "metadata": {
        "id": "hdP9tGqnCCE-"
      },
      "execution_count": null,
      "outputs": []
    },
    {
      "cell_type": "code",
      "source": [
        "# Evaluate the model\n",
        "test_loss, test_acc = model.evaluate(test_generator)\n",
        "print(f'Test accuracy: {test_acc}')"
      ],
      "metadata": {
        "colab": {
          "base_uri": "https://localhost:8080/"
        },
        "id": "fLS4p4oqCWuV",
        "outputId": "53e4a331-e9ee-46b2-c18b-2a94e15c656a"
      },
      "execution_count": null,
      "outputs": [
        {
          "output_type": "stream",
          "name": "stdout",
          "text": [
            "10/10 [==============================] - 213s 21s/step - loss: 0.6658 - accuracy: 0.6594\n",
            "Test accuracy: 0.659375011920929\n"
          ]
        }
      ]
    },
    {
      "cell_type": "code",
      "source": [
        "print(train_generator.class_indices)"
      ],
      "metadata": {
        "colab": {
          "base_uri": "https://localhost:8080/"
        },
        "id": "vPw83AEODYK5",
        "outputId": "87127a54-1a72-485c-f8e4-07d99a26b7ab"
      },
      "execution_count": null,
      "outputs": [
        {
          "output_type": "stream",
          "name": "stdout",
          "text": [
            "{'bully': 0, 'nonbully': 1}\n"
          ]
        }
      ]
    },
    {
      "cell_type": "code",
      "source": [
        "# Function to load and preprocess the image   #4622\n",
        "def load_and_preprocess_image(img_path):\n",
        "    img = image.load_img(img_path, target_size=(224, 224))  # VGG16 expects 224x224 images\n",
        "    img_array = image.img_to_array(img)\n",
        "    img_array = np.expand_dims(img_array, axis=0)  # Add batch dimension\n",
        "    img_array /= 255.0  # Normalize the image to [0, 1] range\n",
        "    return img_array\n",
        "\n",
        "# Path to your image\n",
        "img_path = '/content/drive/MyDrive/test/nonbully/2941.jpg'  # Update with the path to your image\n",
        "\n",
        "# Preprocess the image\n",
        "img_array = load_and_preprocess_image(img_path)\n",
        "\n",
        "# Make prediction\n",
        "prediction = model.predict(img_array)\n",
        "\n",
        "# Interpret the result\n",
        "if prediction[0] < 0.5:\n",
        "    print(\"Predicted: Bully\")\n",
        "else:\n",
        "    print(\"Predicted: Non-Bully\")\n"
      ],
      "metadata": {
        "colab": {
          "base_uri": "https://localhost:8080/"
        },
        "id": "NPh1fCmnDQ0e",
        "outputId": "9c52fa7a-9927-43fc-ec87-d2d345ffce17"
      },
      "execution_count": null,
      "outputs": [
        {
          "output_type": "stream",
          "name": "stdout",
          "text": [
            "1/1 [==============================] - 1s 675ms/step\n",
            "Predicted: Non-Bully\n"
          ]
        }
      ]
    }
  ]
}